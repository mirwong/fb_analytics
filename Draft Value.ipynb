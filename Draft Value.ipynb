{
 "cells": [
  {
   "cell_type": "markdown",
   "metadata": {},
   "source": [
    "# Relative Draft Value: 2020 NFL Draft\n",
    "mirwong@nuevaschool.org"
   ]
  },
  {
   "cell_type": "code",
   "execution_count": 252,
   "metadata": {},
   "outputs": [],
   "source": [
    "import numpy as np\n",
    "import matplotlib.pyplot as plt\n",
    "import pandas as pd"
   ]
  },
  {
   "cell_type": "code",
   "execution_count": 319,
   "metadata": {},
   "outputs": [],
   "source": [
    "nfl_abbr = {'NWE': 'New England Patriots',\n",
    "           'NYJ': 'New York Jets',\n",
    "           'BUF': 'Buffalo Bills',\n",
    "           'MIA': 'Miami Dolphins',\n",
    "           'BAL': 'Baltimore Ravens',\n",
    "           'PIT': 'Pittsburgh Steelers',\n",
    "           'CLE': 'Cleveland Browns',\n",
    "           'CIN': 'Cincinnati Bengals',\n",
    "           'HOU': 'Houston Texans',\n",
    "           'IND': 'Indianapolis Colts',\n",
    "           'TEN': 'Tennessee Titans',\n",
    "           'JAX': 'Jacksonville Jaguars',\n",
    "           'KAN': 'Kansas City Chiefs',\n",
    "           'DEN': 'Denver Broncos',\n",
    "           'VEG': 'Oakland Raiders',\n",
    "           'LAC': 'Los Angeles Chargers',\n",
    "           'TAM': 'Tampa Bay Buccaneers',\n",
    "           'NOR': 'New Orleans Saints',\n",
    "           'ATL': 'Atlanta Falcons',\n",
    "           'CAR': 'Carolina Panthers',\n",
    "           'DAL': 'Dallas Cowboys',\n",
    "           'PHI': 'Philadelphia Eagles',\n",
    "           'WAS': 'Washington Redskins',\n",
    "           'NYG': 'New York Giants',\n",
    "           'GNB': 'Green Bay Packers',\n",
    "           'MIN': 'Minnesota Vikings',\n",
    "           'CHI': 'Chicago Bears',\n",
    "           'DET': 'Detroit Lions',\n",
    "           'LAR': 'Los Angeles Rams',\n",
    "           'ARI': 'Arizona Cardinals',\n",
    "           'SEA': 'Seattle Seahawks',\n",
    "           'SFO': 'San Francisco 49ers'}\n",
    "\n",
    "nfl_teams = pd.DataFrame([nfl_abbr.keys(), nfl_abbr.values()]).T\n",
    "nfl_teams.columns = ['Abbr', 'Name']\n",
    "nfl_teams['Color'] = ['#002244', '#125740', '#00338D', '#008E97', \n",
    "                      '#241773', '#FFB612', '#311D00', '#FB4F14', \n",
    "                      '#03202F', '#002C5F', '#4B92DB', '#101820',\n",
    "                     '#E31837', '#FB4F14', '#000000', '#002A5E',\n",
    "                     '#D50A0A', '#D3BC8D', '#A71930', '#0085CA',\n",
    "                     '#041E42', '#004C54', '#773141', '#0B2265',\n",
    "                     '#203731', '#4F2683', '#0B162A', '#0076B6',\n",
    "                     '#002244', '#97233F', '#002244', '#AA0000']"
   ]
  },
  {
   "cell_type": "markdown",
   "metadata": {},
   "source": [
    "## Import PFF Big Board Rank Data\n",
    "Source: https://www.pff.com/draft/big-board"
   ]
  },
  {
   "cell_type": "code",
   "execution_count": 435,
   "metadata": {},
   "outputs": [
    {
     "name": "stdout",
     "output_type": "stream",
     "text": [
      "['PFF Rank', '1', 'Joe Burrow', 'Position', 'QB', 'Class', 'Sr.', 'PFF Rank', '2', 'Tua Tagovailoa']\n"
     ]
    }
   ],
   "source": [
    "raw_data = []\n",
    "for n in range(1,11):\n",
    "    f = open('pff_rank_pg{}.txt'.format(n), 'r')\n",
    "    page_data = list(map(lambda s: s.strip(), f.readlines()))\n",
    "    f.close()\n",
    "    raw_data += page_data\n",
    "\n",
    "print(raw_data[:10])"
   ]
  },
  {
   "cell_type": "code",
   "execution_count": 436,
   "metadata": {},
   "outputs": [],
   "source": [
    "pff_data = [raw_data[1::7], raw_data[2::7], raw_data[4::7], raw_data[6::7]]"
   ]
  },
  {
   "cell_type": "code",
   "execution_count": 437,
   "metadata": {},
   "outputs": [],
   "source": [
    "pff = pd.DataFrame(pff_data).transpose()\n",
    "pff.columns = [\"PFF Rank\", \"Name\", \"Position\", \"Class\"]"
   ]
  },
  {
   "cell_type": "code",
   "execution_count": 438,
   "metadata": {
    "scrolled": true
   },
   "outputs": [
    {
     "data": {
      "text/html": [
       "<div>\n",
       "<style scoped>\n",
       "    .dataframe tbody tr th:only-of-type {\n",
       "        vertical-align: middle;\n",
       "    }\n",
       "\n",
       "    .dataframe tbody tr th {\n",
       "        vertical-align: top;\n",
       "    }\n",
       "\n",
       "    .dataframe thead th {\n",
       "        text-align: right;\n",
       "    }\n",
       "</style>\n",
       "<table border=\"1\" class=\"dataframe\">\n",
       "  <thead>\n",
       "    <tr style=\"text-align: right;\">\n",
       "      <th></th>\n",
       "      <th>PFF Rank</th>\n",
       "      <th>Name</th>\n",
       "      <th>Position</th>\n",
       "      <th>Class</th>\n",
       "    </tr>\n",
       "  </thead>\n",
       "  <tbody>\n",
       "    <tr>\n",
       "      <td>0</td>\n",
       "      <td>1</td>\n",
       "      <td>Joe Burrow</td>\n",
       "      <td>QB</td>\n",
       "      <td>Sr.</td>\n",
       "    </tr>\n",
       "    <tr>\n",
       "      <td>1</td>\n",
       "      <td>2</td>\n",
       "      <td>Tua Tagovailoa</td>\n",
       "      <td>QB</td>\n",
       "      <td>Jr.</td>\n",
       "    </tr>\n",
       "    <tr>\n",
       "      <td>2</td>\n",
       "      <td>3</td>\n",
       "      <td>Chase Young</td>\n",
       "      <td>ED</td>\n",
       "      <td>Jr.</td>\n",
       "    </tr>\n",
       "    <tr>\n",
       "      <td>3</td>\n",
       "      <td>4</td>\n",
       "      <td>Jeffrey Okudah</td>\n",
       "      <td>CB</td>\n",
       "      <td>Jr.</td>\n",
       "    </tr>\n",
       "    <tr>\n",
       "      <td>4</td>\n",
       "      <td>5</td>\n",
       "      <td>Jerry Jeudy</td>\n",
       "      <td>WR</td>\n",
       "      <td>Jr.</td>\n",
       "    </tr>\n",
       "  </tbody>\n",
       "</table>\n",
       "</div>"
      ],
      "text/plain": [
       "  PFF Rank            Name Position Class\n",
       "0        1      Joe Burrow       QB   Sr.\n",
       "1        2  Tua Tagovailoa       QB   Jr.\n",
       "2        3     Chase Young       ED   Jr.\n",
       "3        4  Jeffrey Okudah       CB   Jr.\n",
       "4        5     Jerry Jeudy       WR   Jr."
      ]
     },
     "execution_count": 438,
     "metadata": {},
     "output_type": "execute_result"
    }
   ],
   "source": [
    "pff.head()"
   ]
  },
  {
   "cell_type": "code",
   "execution_count": 439,
   "metadata": {},
   "outputs": [
    {
     "data": {
      "text/plain": [
       "numpy.int64"
      ]
     },
     "execution_count": 439,
     "metadata": {},
     "output_type": "execute_result"
    }
   ],
   "source": [
    "pff[\"PFF Rank\"] = pd.to_numeric(pff[\"PFF Rank\"])\n",
    "type(pff['PFF Rank'][0])"
   ]
  },
  {
   "cell_type": "code",
   "execution_count": 440,
   "metadata": {},
   "outputs": [],
   "source": [
    "# A growing list of full names that need to be shortened.\n",
    "pff.loc[3, 'Name'] = \"Jeff Okudah\" # Jeffrey --> Jeff\n",
    "pff.loc[28, 'Name'] = \"AJ Terrell\" # A.J. --> AJ\n",
    "pff.loc[40, 'Name'] = \"KJ Hamler\" # K.J. --> KJ"
   ]
  },
  {
   "cell_type": "code",
   "execution_count": 441,
   "metadata": {
    "scrolled": true
   },
   "outputs": [],
   "source": [
    "pff.set_index('Name', inplace=True)"
   ]
  },
  {
   "cell_type": "markdown",
   "metadata": {},
   "source": [
    "## Import Draft Pick Value Data\n",
    "Based on the Fitzgerald-Spielberger Draft Trade Value Chart (https://overthecap.com/draft-trade-value-chart/) and Jimmy Johnnson's original Draft Trade Value chart (https://www.pro-football-reference.com/draft/draft_trade_value.htm)."
   ]
  },
  {
   "cell_type": "code",
   "execution_count": 442,
   "metadata": {
    "scrolled": false
   },
   "outputs": [
    {
     "data": {
      "text/plain": [
       "Index(['Year', 'Round', 'Pick', 'Fitzgerald-Spielberger Value',\n",
       "       'Johnson Value', 'Team', 'Unnamed: 6', 'Unnamed: 7', 'Unnamed: 8',\n",
       "       'Unnamed: 9', 'Unnamed: 10', 'Unnamed: 11', 'Unnamed: 12',\n",
       "       'Unnamed: 13', 'Unnamed: 14', 'Unnamed: 15', 'Unnamed: 16',\n",
       "       'Unnamed: 17', 'Unnamed: 18', 'Unnamed: 19', 'Unnamed: 20',\n",
       "       'Unnamed: 21', 'Unnamed: 22', 'Unnamed: 23', 'Unnamed: 24',\n",
       "       'Unnamed: 25', 'Unnamed: 26', 'Unnamed: 27', 'Unnamed: 28',\n",
       "       'Unnamed: 29'],\n",
       "      dtype='object')"
      ]
     },
     "execution_count": 442,
     "metadata": {},
     "output_type": "execute_result"
    }
   ],
   "source": [
    "pick_value = pd.read_csv('draft_pick_value.csv')\n",
    "pick_value.columns"
   ]
  },
  {
   "cell_type": "code",
   "execution_count": 443,
   "metadata": {},
   "outputs": [
    {
     "data": {
      "text/html": [
       "<div>\n",
       "<style scoped>\n",
       "    .dataframe tbody tr th:only-of-type {\n",
       "        vertical-align: middle;\n",
       "    }\n",
       "\n",
       "    .dataframe tbody tr th {\n",
       "        vertical-align: top;\n",
       "    }\n",
       "\n",
       "    .dataframe thead th {\n",
       "        text-align: right;\n",
       "    }\n",
       "</style>\n",
       "<table border=\"1\" class=\"dataframe\">\n",
       "  <thead>\n",
       "    <tr style=\"text-align: right;\">\n",
       "      <th></th>\n",
       "      <th>Year</th>\n",
       "      <th>Round</th>\n",
       "      <th>Pick</th>\n",
       "      <th>Fitzgerald-Spielberger Value</th>\n",
       "      <th>Johnson Value</th>\n",
       "      <th>Team</th>\n",
       "    </tr>\n",
       "  </thead>\n",
       "  <tbody>\n",
       "    <tr>\n",
       "      <td>0</td>\n",
       "      <td>2020</td>\n",
       "      <td>1</td>\n",
       "      <td>1</td>\n",
       "      <td>3000</td>\n",
       "      <td>3000</td>\n",
       "      <td>Cincinnati Bengals</td>\n",
       "    </tr>\n",
       "    <tr>\n",
       "      <td>1</td>\n",
       "      <td>2020</td>\n",
       "      <td>1</td>\n",
       "      <td>2</td>\n",
       "      <td>2649</td>\n",
       "      <td>2600</td>\n",
       "      <td>Washington Redskins</td>\n",
       "    </tr>\n",
       "    <tr>\n",
       "      <td>2</td>\n",
       "      <td>2020</td>\n",
       "      <td>1</td>\n",
       "      <td>3</td>\n",
       "      <td>2443</td>\n",
       "      <td>2200</td>\n",
       "      <td>Detroit Lions</td>\n",
       "    </tr>\n",
       "    <tr>\n",
       "      <td>3</td>\n",
       "      <td>2020</td>\n",
       "      <td>1</td>\n",
       "      <td>4</td>\n",
       "      <td>2297</td>\n",
       "      <td>1800</td>\n",
       "      <td>New York Giants</td>\n",
       "    </tr>\n",
       "    <tr>\n",
       "      <td>4</td>\n",
       "      <td>2020</td>\n",
       "      <td>1</td>\n",
       "      <td>5</td>\n",
       "      <td>2184</td>\n",
       "      <td>1700</td>\n",
       "      <td>Miami Dolphins</td>\n",
       "    </tr>\n",
       "    <tr>\n",
       "      <td>...</td>\n",
       "      <td>...</td>\n",
       "      <td>...</td>\n",
       "      <td>...</td>\n",
       "      <td>...</td>\n",
       "      <td>...</td>\n",
       "      <td>...</td>\n",
       "    </tr>\n",
       "    <tr>\n",
       "      <td>250</td>\n",
       "      <td>2020</td>\n",
       "      <td>7</td>\n",
       "      <td>251</td>\n",
       "      <td>200</td>\n",
       "      <td>1</td>\n",
       "      <td>NaN</td>\n",
       "    </tr>\n",
       "    <tr>\n",
       "      <td>251</td>\n",
       "      <td>2020</td>\n",
       "      <td>7</td>\n",
       "      <td>252</td>\n",
       "      <td>198</td>\n",
       "      <td>1</td>\n",
       "      <td>NaN</td>\n",
       "    </tr>\n",
       "    <tr>\n",
       "      <td>252</td>\n",
       "      <td>2020</td>\n",
       "      <td>7</td>\n",
       "      <td>253</td>\n",
       "      <td>196</td>\n",
       "      <td>1</td>\n",
       "      <td>NaN</td>\n",
       "    </tr>\n",
       "    <tr>\n",
       "      <td>253</td>\n",
       "      <td>2020</td>\n",
       "      <td>7</td>\n",
       "      <td>254</td>\n",
       "      <td>194</td>\n",
       "      <td>1</td>\n",
       "      <td>NaN</td>\n",
       "    </tr>\n",
       "    <tr>\n",
       "      <td>254</td>\n",
       "      <td>2020</td>\n",
       "      <td>7</td>\n",
       "      <td>255</td>\n",
       "      <td>192</td>\n",
       "      <td>1</td>\n",
       "      <td>NaN</td>\n",
       "    </tr>\n",
       "  </tbody>\n",
       "</table>\n",
       "<p>255 rows × 6 columns</p>\n",
       "</div>"
      ],
      "text/plain": [
       "     Year  Round  Pick  Fitzgerald-Spielberger Value  Johnson Value  \\\n",
       "0    2020      1     1                          3000           3000   \n",
       "1    2020      1     2                          2649           2600   \n",
       "2    2020      1     3                          2443           2200   \n",
       "3    2020      1     4                          2297           1800   \n",
       "4    2020      1     5                          2184           1700   \n",
       "..    ...    ...   ...                           ...            ...   \n",
       "250  2020      7   251                           200              1   \n",
       "251  2020      7   252                           198              1   \n",
       "252  2020      7   253                           196              1   \n",
       "253  2020      7   254                           194              1   \n",
       "254  2020      7   255                           192              1   \n",
       "\n",
       "                    Team  \n",
       "0     Cincinnati Bengals  \n",
       "1    Washington Redskins  \n",
       "2          Detroit Lions  \n",
       "3        New York Giants  \n",
       "4         Miami Dolphins  \n",
       "..                   ...  \n",
       "250                  NaN  \n",
       "251                  NaN  \n",
       "252                  NaN  \n",
       "253                  NaN  \n",
       "254                  NaN  \n",
       "\n",
       "[255 rows x 6 columns]"
      ]
     },
     "execution_count": 443,
     "metadata": {},
     "output_type": "execute_result"
    }
   ],
   "source": [
    "pick_value.drop(['Unnamed: 6', 'Unnamed: 7', 'Unnamed: 8', 'Unnamed: 9',\n",
    "       'Unnamed: 10', 'Unnamed: 11', 'Unnamed: 12', 'Unnamed: 13',\n",
    "       'Unnamed: 14', 'Unnamed: 15', 'Unnamed: 16', 'Unnamed: 17',\n",
    "       'Unnamed: 18', 'Unnamed: 19', 'Unnamed: 20', 'Unnamed: 21',\n",
    "       'Unnamed: 22', 'Unnamed: 23', 'Unnamed: 24', 'Unnamed: 25',\n",
    "       'Unnamed: 26', 'Unnamed: 27', 'Unnamed: 28', 'Unnamed: 29'], inplace=True, axis=1)\n",
    "pick_value"
   ]
  },
  {
   "cell_type": "code",
   "execution_count": 444,
   "metadata": {},
   "outputs": [],
   "source": [
    "pick_value['Year'] = pd.to_numeric(pick_value['Year'])\n",
    "pick_value['Round'] = pd.to_numeric(pick_value['Round'])\n",
    "pick_value['Fitzgerald-Spielberger Value'] = pd.to_numeric(pick_value['Fitzgerald-Spielberger Value'])\n",
    "pick_value['Johnson Value'] = pd.to_numeric(pick_value['Johnson Value'])"
   ]
  },
  {
   "cell_type": "code",
   "execution_count": 445,
   "metadata": {
    "scrolled": false
   },
   "outputs": [
    {
     "data": {
      "text/html": [
       "<div>\n",
       "<style scoped>\n",
       "    .dataframe tbody tr th:only-of-type {\n",
       "        vertical-align: middle;\n",
       "    }\n",
       "\n",
       "    .dataframe tbody tr th {\n",
       "        vertical-align: top;\n",
       "    }\n",
       "\n",
       "    .dataframe thead th {\n",
       "        text-align: right;\n",
       "    }\n",
       "</style>\n",
       "<table border=\"1\" class=\"dataframe\">\n",
       "  <thead>\n",
       "    <tr style=\"text-align: right;\">\n",
       "      <th></th>\n",
       "      <th>Year</th>\n",
       "      <th>Round</th>\n",
       "      <th>Pick</th>\n",
       "      <th>Fitzgerald-Spielberger Value</th>\n",
       "      <th>Johnson Value</th>\n",
       "      <th>Team</th>\n",
       "    </tr>\n",
       "  </thead>\n",
       "  <tbody>\n",
       "    <tr>\n",
       "      <td>0</td>\n",
       "      <td>2020</td>\n",
       "      <td>1</td>\n",
       "      <td>1</td>\n",
       "      <td>3000</td>\n",
       "      <td>3000</td>\n",
       "      <td>Cincinnati Bengals</td>\n",
       "    </tr>\n",
       "    <tr>\n",
       "      <td>1</td>\n",
       "      <td>2020</td>\n",
       "      <td>1</td>\n",
       "      <td>2</td>\n",
       "      <td>2649</td>\n",
       "      <td>2600</td>\n",
       "      <td>Washington Redskins</td>\n",
       "    </tr>\n",
       "    <tr>\n",
       "      <td>2</td>\n",
       "      <td>2020</td>\n",
       "      <td>1</td>\n",
       "      <td>3</td>\n",
       "      <td>2443</td>\n",
       "      <td>2200</td>\n",
       "      <td>Detroit Lions</td>\n",
       "    </tr>\n",
       "    <tr>\n",
       "      <td>3</td>\n",
       "      <td>2020</td>\n",
       "      <td>1</td>\n",
       "      <td>4</td>\n",
       "      <td>2297</td>\n",
       "      <td>1800</td>\n",
       "      <td>New York Giants</td>\n",
       "    </tr>\n",
       "    <tr>\n",
       "      <td>4</td>\n",
       "      <td>2020</td>\n",
       "      <td>1</td>\n",
       "      <td>5</td>\n",
       "      <td>2184</td>\n",
       "      <td>1700</td>\n",
       "      <td>Miami Dolphins</td>\n",
       "    </tr>\n",
       "    <tr>\n",
       "      <td>...</td>\n",
       "      <td>...</td>\n",
       "      <td>...</td>\n",
       "      <td>...</td>\n",
       "      <td>...</td>\n",
       "      <td>...</td>\n",
       "      <td>...</td>\n",
       "    </tr>\n",
       "    <tr>\n",
       "      <td>250</td>\n",
       "      <td>2020</td>\n",
       "      <td>7</td>\n",
       "      <td>251</td>\n",
       "      <td>200</td>\n",
       "      <td>1</td>\n",
       "      <td>NaN</td>\n",
       "    </tr>\n",
       "    <tr>\n",
       "      <td>251</td>\n",
       "      <td>2020</td>\n",
       "      <td>7</td>\n",
       "      <td>252</td>\n",
       "      <td>198</td>\n",
       "      <td>1</td>\n",
       "      <td>NaN</td>\n",
       "    </tr>\n",
       "    <tr>\n",
       "      <td>252</td>\n",
       "      <td>2020</td>\n",
       "      <td>7</td>\n",
       "      <td>253</td>\n",
       "      <td>196</td>\n",
       "      <td>1</td>\n",
       "      <td>NaN</td>\n",
       "    </tr>\n",
       "    <tr>\n",
       "      <td>253</td>\n",
       "      <td>2020</td>\n",
       "      <td>7</td>\n",
       "      <td>254</td>\n",
       "      <td>194</td>\n",
       "      <td>1</td>\n",
       "      <td>NaN</td>\n",
       "    </tr>\n",
       "    <tr>\n",
       "      <td>254</td>\n",
       "      <td>2020</td>\n",
       "      <td>7</td>\n",
       "      <td>255</td>\n",
       "      <td>192</td>\n",
       "      <td>1</td>\n",
       "      <td>NaN</td>\n",
       "    </tr>\n",
       "  </tbody>\n",
       "</table>\n",
       "<p>255 rows × 6 columns</p>\n",
       "</div>"
      ],
      "text/plain": [
       "     Year  Round  Pick  Fitzgerald-Spielberger Value  Johnson Value  \\\n",
       "0    2020      1     1                          3000           3000   \n",
       "1    2020      1     2                          2649           2600   \n",
       "2    2020      1     3                          2443           2200   \n",
       "3    2020      1     4                          2297           1800   \n",
       "4    2020      1     5                          2184           1700   \n",
       "..    ...    ...   ...                           ...            ...   \n",
       "250  2020      7   251                           200              1   \n",
       "251  2020      7   252                           198              1   \n",
       "252  2020      7   253                           196              1   \n",
       "253  2020      7   254                           194              1   \n",
       "254  2020      7   255                           192              1   \n",
       "\n",
       "                    Team  \n",
       "0     Cincinnati Bengals  \n",
       "1    Washington Redskins  \n",
       "2          Detroit Lions  \n",
       "3        New York Giants  \n",
       "4         Miami Dolphins  \n",
       "..                   ...  \n",
       "250                  NaN  \n",
       "251                  NaN  \n",
       "252                  NaN  \n",
       "253                  NaN  \n",
       "254                  NaN  \n",
       "\n",
       "[255 rows x 6 columns]"
      ]
     },
     "execution_count": 445,
     "metadata": {},
     "output_type": "execute_result"
    }
   ],
   "source": [
    "pick_value"
   ]
  },
  {
   "cell_type": "markdown",
   "metadata": {},
   "source": [
    "## Import Actual Draft Pick Data\n",
    "Taken from Pro Football Reference: https://www.pro-football-reference.com/years/2020/draft.htm"
   ]
  },
  {
   "cell_type": "code",
   "execution_count": 446,
   "metadata": {},
   "outputs": [
    {
     "data": {
      "text/html": [
       "<div>\n",
       "<style scoped>\n",
       "    .dataframe tbody tr th:only-of-type {\n",
       "        vertical-align: middle;\n",
       "    }\n",
       "\n",
       "    .dataframe tbody tr th {\n",
       "        vertical-align: top;\n",
       "    }\n",
       "\n",
       "    .dataframe thead th {\n",
       "        text-align: right;\n",
       "    }\n",
       "</style>\n",
       "<table border=\"1\" class=\"dataframe\">\n",
       "  <thead>\n",
       "    <tr style=\"text-align: right;\">\n",
       "      <th></th>\n",
       "      <th>Rnd</th>\n",
       "      <th>Pick</th>\n",
       "      <th>Tm</th>\n",
       "      <th>Player</th>\n",
       "      <th>Pos</th>\n",
       "      <th>Age</th>\n",
       "      <th>College/Univ</th>\n",
       "    </tr>\n",
       "  </thead>\n",
       "  <tbody>\n",
       "    <tr>\n",
       "      <td>0</td>\n",
       "      <td>1</td>\n",
       "      <td>1</td>\n",
       "      <td>CIN</td>\n",
       "      <td>Joe Burrow\\BurrJo01</td>\n",
       "      <td>QB</td>\n",
       "      <td>23.0</td>\n",
       "      <td>LSU</td>\n",
       "    </tr>\n",
       "    <tr>\n",
       "      <td>1</td>\n",
       "      <td>1</td>\n",
       "      <td>2</td>\n",
       "      <td>WAS</td>\n",
       "      <td>Chase Young\\YounCh04</td>\n",
       "      <td>DE</td>\n",
       "      <td>21.0</td>\n",
       "      <td>Ohio St.</td>\n",
       "    </tr>\n",
       "    <tr>\n",
       "      <td>2</td>\n",
       "      <td>1</td>\n",
       "      <td>3</td>\n",
       "      <td>DET</td>\n",
       "      <td>Jeff Okudah\\OkudJe00</td>\n",
       "      <td>CB</td>\n",
       "      <td>21.0</td>\n",
       "      <td>Ohio St.</td>\n",
       "    </tr>\n",
       "    <tr>\n",
       "      <td>3</td>\n",
       "      <td>1</td>\n",
       "      <td>4</td>\n",
       "      <td>NYG</td>\n",
       "      <td>Andrew Thomas\\ThomAn02</td>\n",
       "      <td>OT</td>\n",
       "      <td>21.0</td>\n",
       "      <td>Georgia</td>\n",
       "    </tr>\n",
       "    <tr>\n",
       "      <td>4</td>\n",
       "      <td>1</td>\n",
       "      <td>5</td>\n",
       "      <td>MIA</td>\n",
       "      <td>Tua Tagovailoa\\TagoTu00</td>\n",
       "      <td>QB</td>\n",
       "      <td>22.0</td>\n",
       "      <td>Alabama</td>\n",
       "    </tr>\n",
       "    <tr>\n",
       "      <td>...</td>\n",
       "      <td>...</td>\n",
       "      <td>...</td>\n",
       "      <td>...</td>\n",
       "      <td>...</td>\n",
       "      <td>...</td>\n",
       "      <td>...</td>\n",
       "      <td>...</td>\n",
       "    </tr>\n",
       "    <tr>\n",
       "      <td>250</td>\n",
       "      <td>7</td>\n",
       "      <td>251</td>\n",
       "      <td>SEA</td>\n",
       "      <td>Stephen Sullivan\\SullSt00</td>\n",
       "      <td>TE</td>\n",
       "      <td>NaN</td>\n",
       "      <td>LSU</td>\n",
       "    </tr>\n",
       "    <tr>\n",
       "      <td>251</td>\n",
       "      <td>7</td>\n",
       "      <td>252</td>\n",
       "      <td>DEN</td>\n",
       "      <td>Tyrie Cleveland\\ClevTy00</td>\n",
       "      <td>WR</td>\n",
       "      <td>NaN</td>\n",
       "      <td>Florida</td>\n",
       "    </tr>\n",
       "    <tr>\n",
       "      <td>252</td>\n",
       "      <td>7</td>\n",
       "      <td>253</td>\n",
       "      <td>MIN</td>\n",
       "      <td>Kyle Hinton\\HintKy00</td>\n",
       "      <td>G</td>\n",
       "      <td>NaN</td>\n",
       "      <td>Washburn</td>\n",
       "    </tr>\n",
       "    <tr>\n",
       "      <td>253</td>\n",
       "      <td>7</td>\n",
       "      <td>254</td>\n",
       "      <td>DEN</td>\n",
       "      <td>Derrek Tuszka\\TuszDe00</td>\n",
       "      <td>LB</td>\n",
       "      <td>NaN</td>\n",
       "      <td>North Dakota St.</td>\n",
       "    </tr>\n",
       "    <tr>\n",
       "      <td>254</td>\n",
       "      <td>7</td>\n",
       "      <td>255</td>\n",
       "      <td>NYG</td>\n",
       "      <td>Tae Crowder\\CrowTa00</td>\n",
       "      <td>LB</td>\n",
       "      <td>NaN</td>\n",
       "      <td>Georgia</td>\n",
       "    </tr>\n",
       "  </tbody>\n",
       "</table>\n",
       "<p>255 rows × 7 columns</p>\n",
       "</div>"
      ],
      "text/plain": [
       "     Rnd  Pick   Tm                     Player Pos   Age      College/Univ\n",
       "0      1     1  CIN        Joe Burrow\\BurrJo01  QB  23.0               LSU\n",
       "1      1     2  WAS       Chase Young\\YounCh04  DE  21.0          Ohio St.\n",
       "2      1     3  DET       Jeff Okudah\\OkudJe00  CB  21.0          Ohio St.\n",
       "3      1     4  NYG     Andrew Thomas\\ThomAn02  OT  21.0           Georgia\n",
       "4      1     5  MIA    Tua Tagovailoa\\TagoTu00  QB  22.0           Alabama\n",
       "..   ...   ...  ...                        ...  ..   ...               ...\n",
       "250    7   251  SEA  Stephen Sullivan\\SullSt00  TE   NaN               LSU\n",
       "251    7   252  DEN   Tyrie Cleveland\\ClevTy00  WR   NaN           Florida\n",
       "252    7   253  MIN       Kyle Hinton\\HintKy00   G   NaN          Washburn\n",
       "253    7   254  DEN     Derrek Tuszka\\TuszDe00  LB   NaN  North Dakota St.\n",
       "254    7   255  NYG       Tae Crowder\\CrowTa00  LB   NaN           Georgia\n",
       "\n",
       "[255 rows x 7 columns]"
      ]
     },
     "execution_count": 446,
     "metadata": {},
     "output_type": "execute_result"
    }
   ],
   "source": [
    "drafted = pd.read_csv('2020_draft.csv')\n",
    "drafted.drop(drafted.iloc[:, 6:27], inplace=True, axis=1)\n",
    "del drafted[\"Unnamed: 28\"]\n",
    "drafted"
   ]
  },
  {
   "cell_type": "code",
   "execution_count": 447,
   "metadata": {},
   "outputs": [
    {
     "data": {
      "text/html": [
       "<div>\n",
       "<style scoped>\n",
       "    .dataframe tbody tr th:only-of-type {\n",
       "        vertical-align: middle;\n",
       "    }\n",
       "\n",
       "    .dataframe tbody tr th {\n",
       "        vertical-align: top;\n",
       "    }\n",
       "\n",
       "    .dataframe thead th {\n",
       "        text-align: right;\n",
       "    }\n",
       "</style>\n",
       "<table border=\"1\" class=\"dataframe\">\n",
       "  <thead>\n",
       "    <tr style=\"text-align: right;\">\n",
       "      <th></th>\n",
       "      <th>Rnd</th>\n",
       "      <th>Pick</th>\n",
       "      <th>Tm</th>\n",
       "      <th>Player</th>\n",
       "      <th>Pos</th>\n",
       "      <th>Age</th>\n",
       "      <th>College/Univ</th>\n",
       "    </tr>\n",
       "  </thead>\n",
       "  <tbody>\n",
       "    <tr>\n",
       "      <td>0</td>\n",
       "      <td>1</td>\n",
       "      <td>1</td>\n",
       "      <td>CIN</td>\n",
       "      <td>Joe Burrow</td>\n",
       "      <td>QB</td>\n",
       "      <td>23.0</td>\n",
       "      <td>LSU</td>\n",
       "    </tr>\n",
       "    <tr>\n",
       "      <td>1</td>\n",
       "      <td>1</td>\n",
       "      <td>2</td>\n",
       "      <td>WAS</td>\n",
       "      <td>Chase Young</td>\n",
       "      <td>DE</td>\n",
       "      <td>21.0</td>\n",
       "      <td>Ohio St.</td>\n",
       "    </tr>\n",
       "    <tr>\n",
       "      <td>2</td>\n",
       "      <td>1</td>\n",
       "      <td>3</td>\n",
       "      <td>DET</td>\n",
       "      <td>Jeff Okudah</td>\n",
       "      <td>CB</td>\n",
       "      <td>21.0</td>\n",
       "      <td>Ohio St.</td>\n",
       "    </tr>\n",
       "    <tr>\n",
       "      <td>3</td>\n",
       "      <td>1</td>\n",
       "      <td>4</td>\n",
       "      <td>NYG</td>\n",
       "      <td>Andrew Thomas</td>\n",
       "      <td>OT</td>\n",
       "      <td>21.0</td>\n",
       "      <td>Georgia</td>\n",
       "    </tr>\n",
       "    <tr>\n",
       "      <td>4</td>\n",
       "      <td>1</td>\n",
       "      <td>5</td>\n",
       "      <td>MIA</td>\n",
       "      <td>Tua Tagovailoa</td>\n",
       "      <td>QB</td>\n",
       "      <td>22.0</td>\n",
       "      <td>Alabama</td>\n",
       "    </tr>\n",
       "    <tr>\n",
       "      <td>...</td>\n",
       "      <td>...</td>\n",
       "      <td>...</td>\n",
       "      <td>...</td>\n",
       "      <td>...</td>\n",
       "      <td>...</td>\n",
       "      <td>...</td>\n",
       "      <td>...</td>\n",
       "    </tr>\n",
       "    <tr>\n",
       "      <td>250</td>\n",
       "      <td>7</td>\n",
       "      <td>251</td>\n",
       "      <td>SEA</td>\n",
       "      <td>Stephen Sullivan</td>\n",
       "      <td>TE</td>\n",
       "      <td>NaN</td>\n",
       "      <td>LSU</td>\n",
       "    </tr>\n",
       "    <tr>\n",
       "      <td>251</td>\n",
       "      <td>7</td>\n",
       "      <td>252</td>\n",
       "      <td>DEN</td>\n",
       "      <td>Tyrie Cleveland</td>\n",
       "      <td>WR</td>\n",
       "      <td>NaN</td>\n",
       "      <td>Florida</td>\n",
       "    </tr>\n",
       "    <tr>\n",
       "      <td>252</td>\n",
       "      <td>7</td>\n",
       "      <td>253</td>\n",
       "      <td>MIN</td>\n",
       "      <td>Kyle Hinton</td>\n",
       "      <td>G</td>\n",
       "      <td>NaN</td>\n",
       "      <td>Washburn</td>\n",
       "    </tr>\n",
       "    <tr>\n",
       "      <td>253</td>\n",
       "      <td>7</td>\n",
       "      <td>254</td>\n",
       "      <td>DEN</td>\n",
       "      <td>Derrek Tuszka</td>\n",
       "      <td>LB</td>\n",
       "      <td>NaN</td>\n",
       "      <td>North Dakota St.</td>\n",
       "    </tr>\n",
       "    <tr>\n",
       "      <td>254</td>\n",
       "      <td>7</td>\n",
       "      <td>255</td>\n",
       "      <td>NYG</td>\n",
       "      <td>Tae Crowder</td>\n",
       "      <td>LB</td>\n",
       "      <td>NaN</td>\n",
       "      <td>Georgia</td>\n",
       "    </tr>\n",
       "  </tbody>\n",
       "</table>\n",
       "<p>255 rows × 7 columns</p>\n",
       "</div>"
      ],
      "text/plain": [
       "     Rnd  Pick   Tm            Player Pos   Age      College/Univ\n",
       "0      1     1  CIN        Joe Burrow  QB  23.0               LSU\n",
       "1      1     2  WAS       Chase Young  DE  21.0          Ohio St.\n",
       "2      1     3  DET       Jeff Okudah  CB  21.0          Ohio St.\n",
       "3      1     4  NYG     Andrew Thomas  OT  21.0           Georgia\n",
       "4      1     5  MIA    Tua Tagovailoa  QB  22.0           Alabama\n",
       "..   ...   ...  ...               ...  ..   ...               ...\n",
       "250    7   251  SEA  Stephen Sullivan  TE   NaN               LSU\n",
       "251    7   252  DEN   Tyrie Cleveland  WR   NaN           Florida\n",
       "252    7   253  MIN       Kyle Hinton   G   NaN          Washburn\n",
       "253    7   254  DEN     Derrek Tuszka  LB   NaN  North Dakota St.\n",
       "254    7   255  NYG       Tae Crowder  LB   NaN           Georgia\n",
       "\n",
       "[255 rows x 7 columns]"
      ]
     },
     "execution_count": 447,
     "metadata": {},
     "output_type": "execute_result"
    }
   ],
   "source": [
    "drafted['Player'] = drafted['Player'].apply(lambda n: n.split('\\\\')[0])\n",
    "drafted"
   ]
  },
  {
   "cell_type": "code",
   "execution_count": 448,
   "metadata": {},
   "outputs": [],
   "source": [
    "drafted['Rnd'] = pd.to_numeric(drafted['Rnd'])\n",
    "drafted['Pick'] = pd.to_numeric(drafted['Pick'])\n",
    "drafted['Age'] = pd.to_numeric(drafted['Age'])"
   ]
  },
  {
   "cell_type": "code",
   "execution_count": 449,
   "metadata": {
    "scrolled": true
   },
   "outputs": [
    {
     "data": {
      "text/html": [
       "<div>\n",
       "<style scoped>\n",
       "    .dataframe tbody tr th:only-of-type {\n",
       "        vertical-align: middle;\n",
       "    }\n",
       "\n",
       "    .dataframe tbody tr th {\n",
       "        vertical-align: top;\n",
       "    }\n",
       "\n",
       "    .dataframe thead th {\n",
       "        text-align: right;\n",
       "    }\n",
       "</style>\n",
       "<table border=\"1\" class=\"dataframe\">\n",
       "  <thead>\n",
       "    <tr style=\"text-align: right;\">\n",
       "      <th></th>\n",
       "      <th>Rnd</th>\n",
       "      <th>Pick</th>\n",
       "      <th>Tm</th>\n",
       "      <th>Player</th>\n",
       "      <th>Pos</th>\n",
       "      <th>Age</th>\n",
       "      <th>College/Univ</th>\n",
       "    </tr>\n",
       "  </thead>\n",
       "  <tbody>\n",
       "    <tr>\n",
       "      <td>0</td>\n",
       "      <td>1</td>\n",
       "      <td>1</td>\n",
       "      <td>CIN</td>\n",
       "      <td>Joe Burrow</td>\n",
       "      <td>QB</td>\n",
       "      <td>23.0</td>\n",
       "      <td>LSU</td>\n",
       "    </tr>\n",
       "    <tr>\n",
       "      <td>1</td>\n",
       "      <td>1</td>\n",
       "      <td>2</td>\n",
       "      <td>WAS</td>\n",
       "      <td>Chase Young</td>\n",
       "      <td>DE</td>\n",
       "      <td>21.0</td>\n",
       "      <td>Ohio St.</td>\n",
       "    </tr>\n",
       "    <tr>\n",
       "      <td>2</td>\n",
       "      <td>1</td>\n",
       "      <td>3</td>\n",
       "      <td>DET</td>\n",
       "      <td>Jeff Okudah</td>\n",
       "      <td>CB</td>\n",
       "      <td>21.0</td>\n",
       "      <td>Ohio St.</td>\n",
       "    </tr>\n",
       "    <tr>\n",
       "      <td>3</td>\n",
       "      <td>1</td>\n",
       "      <td>4</td>\n",
       "      <td>NYG</td>\n",
       "      <td>Andrew Thomas</td>\n",
       "      <td>OT</td>\n",
       "      <td>21.0</td>\n",
       "      <td>Georgia</td>\n",
       "    </tr>\n",
       "    <tr>\n",
       "      <td>4</td>\n",
       "      <td>1</td>\n",
       "      <td>5</td>\n",
       "      <td>MIA</td>\n",
       "      <td>Tua Tagovailoa</td>\n",
       "      <td>QB</td>\n",
       "      <td>22.0</td>\n",
       "      <td>Alabama</td>\n",
       "    </tr>\n",
       "    <tr>\n",
       "      <td>...</td>\n",
       "      <td>...</td>\n",
       "      <td>...</td>\n",
       "      <td>...</td>\n",
       "      <td>...</td>\n",
       "      <td>...</td>\n",
       "      <td>...</td>\n",
       "      <td>...</td>\n",
       "    </tr>\n",
       "    <tr>\n",
       "      <td>250</td>\n",
       "      <td>7</td>\n",
       "      <td>251</td>\n",
       "      <td>SEA</td>\n",
       "      <td>Stephen Sullivan</td>\n",
       "      <td>TE</td>\n",
       "      <td>NaN</td>\n",
       "      <td>LSU</td>\n",
       "    </tr>\n",
       "    <tr>\n",
       "      <td>251</td>\n",
       "      <td>7</td>\n",
       "      <td>252</td>\n",
       "      <td>DEN</td>\n",
       "      <td>Tyrie Cleveland</td>\n",
       "      <td>WR</td>\n",
       "      <td>NaN</td>\n",
       "      <td>Florida</td>\n",
       "    </tr>\n",
       "    <tr>\n",
       "      <td>252</td>\n",
       "      <td>7</td>\n",
       "      <td>253</td>\n",
       "      <td>MIN</td>\n",
       "      <td>Kyle Hinton</td>\n",
       "      <td>G</td>\n",
       "      <td>NaN</td>\n",
       "      <td>Washburn</td>\n",
       "    </tr>\n",
       "    <tr>\n",
       "      <td>253</td>\n",
       "      <td>7</td>\n",
       "      <td>254</td>\n",
       "      <td>DEN</td>\n",
       "      <td>Derrek Tuszka</td>\n",
       "      <td>LB</td>\n",
       "      <td>NaN</td>\n",
       "      <td>North Dakota St.</td>\n",
       "    </tr>\n",
       "    <tr>\n",
       "      <td>254</td>\n",
       "      <td>7</td>\n",
       "      <td>255</td>\n",
       "      <td>NYG</td>\n",
       "      <td>Tae Crowder</td>\n",
       "      <td>LB</td>\n",
       "      <td>NaN</td>\n",
       "      <td>Georgia</td>\n",
       "    </tr>\n",
       "  </tbody>\n",
       "</table>\n",
       "<p>255 rows × 7 columns</p>\n",
       "</div>"
      ],
      "text/plain": [
       "     Rnd  Pick   Tm            Player Pos   Age      College/Univ\n",
       "0      1     1  CIN        Joe Burrow  QB  23.0               LSU\n",
       "1      1     2  WAS       Chase Young  DE  21.0          Ohio St.\n",
       "2      1     3  DET       Jeff Okudah  CB  21.0          Ohio St.\n",
       "3      1     4  NYG     Andrew Thomas  OT  21.0           Georgia\n",
       "4      1     5  MIA    Tua Tagovailoa  QB  22.0           Alabama\n",
       "..   ...   ...  ...               ...  ..   ...               ...\n",
       "250    7   251  SEA  Stephen Sullivan  TE   NaN               LSU\n",
       "251    7   252  DEN   Tyrie Cleveland  WR   NaN           Florida\n",
       "252    7   253  MIN       Kyle Hinton   G   NaN          Washburn\n",
       "253    7   254  DEN     Derrek Tuszka  LB   NaN  North Dakota St.\n",
       "254    7   255  NYG       Tae Crowder  LB   NaN           Georgia\n",
       "\n",
       "[255 rows x 7 columns]"
      ]
     },
     "execution_count": 449,
     "metadata": {},
     "output_type": "execute_result"
    }
   ],
   "source": [
    "drafted"
   ]
  },
  {
   "cell_type": "code",
   "execution_count": 456,
   "metadata": {
    "scrolled": false
   },
   "outputs": [],
   "source": [
    "drafted.set_index('Player', inplace=True)"
   ]
  },
  {
   "cell_type": "code",
   "execution_count": 462,
   "metadata": {
    "scrolled": true
   },
   "outputs": [],
   "source": [
    "indiciesToDrop = np.setdiff1d(drafted.index, pff.index)\n",
    "indiciesToDrop\n",
    "drafted_ranked = drafted.drop(indiciesToDrop, axis=0)"
   ]
  },
  {
   "cell_type": "markdown",
   "metadata": {},
   "source": [
    "## Analysis\n",
    "Based on this graph: https://twitter.com/CowboysStats/status/1254817291302309889, and the analysis found here: https://cowboysstats.substack.com/p/draft-breakdown-how-the-disadvantaged"
   ]
  },
  {
   "cell_type": "code",
   "execution_count": 463,
   "metadata": {},
   "outputs": [],
   "source": [
    "def get_pick_value(pick, value_sys='F-S'):\n",
    "    '''Returns the value of a given pick based on a specified value system. \n",
    "        Defaults to Fitzgerald-Spielberger Value system.\n",
    "        Currently available value systems: Fitzgerald-Spielberger = 'F-S', Johnson = 'J'.'''\n",
    "    \n",
    "    pick_value_row = pick_value[pick_value['Pick']==pick]\n",
    "    \n",
    "    if value_sys == 'F-S':\n",
    "        sys_name = 'Fitzgerald-Spielberger Value'\n",
    "    elif value_sys == 'J':\n",
    "        sys_name = 'Johnson Value'\n",
    "    \n",
    "    value = list(pick_value_row[sys_name])[0]\n",
    "    return value"
   ]
  },
  {
   "cell_type": "code",
   "execution_count": 476,
   "metadata": {},
   "outputs": [],
   "source": [
    "def get_relative_value(name, value_sys='F-S'):\n",
    "    '''Returns expected pick value - actual pick value for player given.\n",
    "    This means a \"good\" draft will have a lot of positive values, and a \"bad\" draft will have a lot of negatives.\n",
    "    See get_pick_value docstring for value systems'''\n",
    "    if name in list(pff.index):\n",
    "        projected_pick = pff.loc[name, 'PFF Rank']\n",
    "        exp_value = get_pick_value(projected_pick, value_sys=value_sys)\n",
    "    else:\n",
    "        exp_value = 0\n",
    "\n",
    "    reality = drafted[drafted.index.to_series()==name]\n",
    "    true_pick = list(reality['Pick'])[0]\n",
    "    actual_value = get_pick_value(true_pick, value_sys=value_sys)\n",
    "\n",
    "    return exp_value-actual_value"
   ]
  },
  {
   "cell_type": "code",
   "execution_count": 477,
   "metadata": {},
   "outputs": [],
   "source": [
    "def get_pff_value(name, value_sys='F-S'):\n",
    "    '''Returns get_pick_value of PFF Rank if player is ranked by PFF, else 0'''\n",
    "    if name in list(pff.index):\n",
    "        return get_pick_value(pff.loc[name, 'PFF Rank'])\n",
    "    else:\n",
    "        return 0"
   ]
  },
  {
   "cell_type": "code",
   "execution_count": 478,
   "metadata": {
    "scrolled": true
   },
   "outputs": [
    {
     "data": {
      "text/plain": [
       "Index(['Jerry Jeudy', 'AJ Terrell', 'CeeDee Lamb', 'Austin Jackson',\n",
       "       'Damon Arnette', 'K'Lavon Chaisson', 'Jalen Reagor', 'Justin Jefferson',\n",
       "       'Kenneth Murray', 'Cesar Ruiz',\n",
       "       ...\n",
       "       'Malcolm Perry', 'Chris Williamson', 'Sam Sloman', 'Brian Cole II',\n",
       "       'Tremayne Anchrum', 'Stephen Sullivan', 'Tyrie Cleveland',\n",
       "       'Kyle Hinton', 'Derrek Tuszka', 'Tae Crowder'],\n",
       "      dtype='object', name='Player', length=241)"
      ]
     },
     "execution_count": 478,
     "metadata": {},
     "output_type": "execute_result"
    }
   ],
   "source": [
    "drafted.index[14:]"
   ]
  },
  {
   "cell_type": "code",
   "execution_count": 479,
   "metadata": {},
   "outputs": [
    {
     "data": {
      "text/plain": [
       "159"
      ]
     },
     "execution_count": 479,
     "metadata": {},
     "output_type": "execute_result"
    }
   ],
   "source": [
    "pff.loc['Donovan Peoples-Jones', 'PFF Rank']"
   ]
  },
  {
   "cell_type": "code",
   "execution_count": 483,
   "metadata": {
    "scrolled": false
   },
   "outputs": [],
   "source": [
    "draft_eval = pd.concat([drafted['Pick'], drafted.index.to_series()], axis=1, keys=['Pick', 'Player'])\n",
    "draft_eval['Relative Value F-S'] = drafted.index.to_series().apply(get_relative_value)\n",
    "draft_eval['Relative Value J'] = drafted.index.to_series().apply(lambda x: get_relative_value(x, value_sys='J'))\n",
    "draft_eval['Team'] = draft_eval['Player'].apply(lambda x: drafted.loc[x]['Tm'])\n",
    "draft_eval['Projected Value'] = drafted.index.to_series().apply(get_pff_value)"
   ]
  },
  {
   "cell_type": "code",
   "execution_count": 484,
   "metadata": {
    "scrolled": true
   },
   "outputs": [],
   "source": [
    "team_draft_eval = draft_eval.groupby(['Team'])"
   ]
  },
  {
   "cell_type": "code",
   "execution_count": 485,
   "metadata": {},
   "outputs": [
    {
     "data": {
      "text/html": [
       "<div>\n",
       "<style scoped>\n",
       "    .dataframe tbody tr th:only-of-type {\n",
       "        vertical-align: middle;\n",
       "    }\n",
       "\n",
       "    .dataframe tbody tr th {\n",
       "        vertical-align: top;\n",
       "    }\n",
       "\n",
       "    .dataframe thead th {\n",
       "        text-align: right;\n",
       "    }\n",
       "</style>\n",
       "<table border=\"1\" class=\"dataframe\">\n",
       "  <thead>\n",
       "    <tr style=\"text-align: right;\">\n",
       "      <th></th>\n",
       "      <th>Pick</th>\n",
       "      <th>Player</th>\n",
       "      <th>Relative Value F-S</th>\n",
       "      <th>Relative Value J</th>\n",
       "      <th>Team</th>\n",
       "      <th>Projected Value</th>\n",
       "    </tr>\n",
       "    <tr>\n",
       "      <th>Player</th>\n",
       "      <th></th>\n",
       "      <th></th>\n",
       "      <th></th>\n",
       "      <th></th>\n",
       "      <th></th>\n",
       "      <th></th>\n",
       "    </tr>\n",
       "  </thead>\n",
       "  <tbody>\n",
       "    <tr>\n",
       "      <td>CeeDee Lamb</td>\n",
       "      <td>17</td>\n",
       "      <td>CeeDee Lamb</td>\n",
       "      <td>528</td>\n",
       "      <td>650</td>\n",
       "      <td>DAL</td>\n",
       "      <td>2092</td>\n",
       "    </tr>\n",
       "    <tr>\n",
       "      <td>Trevon Diggs</td>\n",
       "      <td>51</td>\n",
       "      <td>Trevon Diggs</td>\n",
       "      <td>253</td>\n",
       "      <td>210</td>\n",
       "      <td>DAL</td>\n",
       "      <td>1260</td>\n",
       "    </tr>\n",
       "    <tr>\n",
       "      <td>Neville Gallimore</td>\n",
       "      <td>82</td>\n",
       "      <td>Neville Gallimore</td>\n",
       "      <td>240</td>\n",
       "      <td>210</td>\n",
       "      <td>DAL</td>\n",
       "      <td>1007</td>\n",
       "    </tr>\n",
       "    <tr>\n",
       "      <td>Reggie Robinson II</td>\n",
       "      <td>123</td>\n",
       "      <td>Reggie Robinson II</td>\n",
       "      <td>-273</td>\n",
       "      <td>-42</td>\n",
       "      <td>DAL</td>\n",
       "      <td>288</td>\n",
       "    </tr>\n",
       "    <tr>\n",
       "      <td>Tyler Biadasz</td>\n",
       "      <td>146</td>\n",
       "      <td>Tyler Biadasz</td>\n",
       "      <td>263</td>\n",
       "      <td>122</td>\n",
       "      <td>DAL</td>\n",
       "      <td>737</td>\n",
       "    </tr>\n",
       "    <tr>\n",
       "      <td>Bradlee Anae</td>\n",
       "      <td>179</td>\n",
       "      <td>Bradlee Anae</td>\n",
       "      <td>162</td>\n",
       "      <td>22</td>\n",
       "      <td>DAL</td>\n",
       "      <td>533</td>\n",
       "    </tr>\n",
       "    <tr>\n",
       "      <td>Ben DiNucci</td>\n",
       "      <td>231</td>\n",
       "      <td>Ben DiNucci</td>\n",
       "      <td>-242</td>\n",
       "      <td>-1</td>\n",
       "      <td>DAL</td>\n",
       "      <td>0</td>\n",
       "    </tr>\n",
       "  </tbody>\n",
       "</table>\n",
       "</div>"
      ],
      "text/plain": [
       "                    Pick              Player  Relative Value F-S  \\\n",
       "Player                                                             \n",
       "CeeDee Lamb           17         CeeDee Lamb                 528   \n",
       "Trevon Diggs          51        Trevon Diggs                 253   \n",
       "Neville Gallimore     82   Neville Gallimore                 240   \n",
       "Reggie Robinson II   123  Reggie Robinson II                -273   \n",
       "Tyler Biadasz        146       Tyler Biadasz                 263   \n",
       "Bradlee Anae         179        Bradlee Anae                 162   \n",
       "Ben DiNucci          231         Ben DiNucci                -242   \n",
       "\n",
       "                    Relative Value J Team  Projected Value  \n",
       "Player                                                      \n",
       "CeeDee Lamb                      650  DAL             2092  \n",
       "Trevon Diggs                     210  DAL             1260  \n",
       "Neville Gallimore                210  DAL             1007  \n",
       "Reggie Robinson II               -42  DAL              288  \n",
       "Tyler Biadasz                    122  DAL              737  \n",
       "Bradlee Anae                      22  DAL              533  \n",
       "Ben DiNucci                       -1  DAL                0  "
      ]
     },
     "execution_count": 485,
     "metadata": {},
     "output_type": "execute_result"
    }
   ],
   "source": [
    "team_draft_eval.get_group('DAL')"
   ]
  },
  {
   "cell_type": "code",
   "execution_count": 486,
   "metadata": {},
   "outputs": [],
   "source": [
    "composite_by_team = pd.DataFrame(nfl_teams['Abbr'])\n",
    "composite_by_team.columns = ['Team']\n",
    "composite_by_team['Cumulative Relative F-S'] = composite_by_team['Team'].apply(\n",
    "    lambda x: sum(team_draft_eval.get_group(x)['Relative Value F-S']))\n",
    "composite_by_team['Cumulative Relative J'] = composite_by_team['Team'].apply(\n",
    "    lambda x: sum(team_draft_eval.get_group(x)['Relative Value J']))\n",
    "composite_by_team['Color'] = nfl_teams['Color']\n",
    "composite_by_team['Scaled Relative F-S'] = composite_by_team['Team'].apply(\n",
    "    lambda n: float(composite_by_team[composite_by_team['Team']==n]['Cumulative Relative F-S']/len(team_draft_eval.get_group(n))))\n",
    "\n",
    "\n",
    "composite_by_team.sort_values('Scaled Relative F-S', inplace=True)\n",
    "\n"
   ]
  },
  {
   "cell_type": "code",
   "execution_count": 487,
   "metadata": {},
   "outputs": [
    {
     "data": {
      "text/plain": [
       "<BarContainer object of 32 artists>"
      ]
     },
     "execution_count": 487,
     "metadata": {},
     "output_type": "execute_result"
    },
    {
     "data": {
      "image/png": "[encoded data removed]",
      "text/plain": [
       "<Figure size 1008x864 with 1 Axes>"
      ]
     },
     "metadata": {
      "needs_background": "light"
     },
     "output_type": "display_data"
    }
   ],
   "source": [
    "plt.figure(figsize=(14,12))\n",
    "plt.bar(height=composite_by_team['Scaled Relative F-S'], x=composite_by_team['Team'], color=composite_by_team['Color'])"
   ]
  },
  {
   "cell_type": "code",
   "execution_count": 488,
   "metadata": {
    "scrolled": true
   },
   "outputs": [
    {
     "data": {
      "text/plain": [
       "[<matplotlib.lines.Line2D at 0x11e81b910>]"
      ]
     },
     "execution_count": 488,
     "metadata": {},
     "output_type": "execute_result"
    },
    {
     "data": {
      "image/png": "[encoded data removed]",
      "text/plain": [
       "<Figure size 432x288 with 1 Axes>"
      ]
     },
     "metadata": {
      "needs_background": "light"
     },
     "output_type": "display_data"
    }
   ],
   "source": [
    "plt.plot(pick_value['Pick'], pick_value['Fitzgerald-Spielberger Value'], linestyle='solid')"
   ]
  },
  {
   "cell_type": "code",
   "execution_count": 489,
   "metadata": {
    "scrolled": false
   },
   "outputs": [
    {
     "data": {
      "text/plain": [
       "[<matplotlib.lines.Line2D at 0x11eab2910>]"
      ]
     },
     "execution_count": 489,
     "metadata": {},
     "output_type": "execute_result"
    },
    {
     "data": {
      "image/png": "[encoded data removed]",
      "text/plain": [
       "<Figure size 432x288 with 1 Axes>"
      ]
     },
     "metadata": {
      "needs_background": "light"
     },
     "output_type": "display_data"
    }
   ],
   "source": [
    "plt.scatter(draft_eval['Pick'], draft_eval['Projected Value'])\n",
    "plt.plot(pick_value['Pick'], pick_value['Fitzgerald-Spielberger Value'], linestyle='solid', color='#ff0000')"
   ]
  },
  {
   "cell_type": "code",
   "execution_count": null,
   "metadata": {},
   "outputs": [],
   "source": [
    "# trying to figure out what those dots around the 0-mark are\n",
    "\n"
   ]
  },
  {
   "cell_type": "code",
   "execution_count": 490,
   "metadata": {},
   "outputs": [
    {
     "data": {
      "text/plain": [
       "[<matplotlib.lines.Line2D at 0x11d6a0550>]"
      ]
     },
     "execution_count": 490,
     "metadata": {},
     "output_type": "execute_result"
    },
    {
     "data": {
      "image/png": "[encoded data removed]",
      "text/plain": [
       "<Figure size 432x288 with 1 Axes>"
      ]
     },
     "metadata": {
      "needs_background": "light"
     },
     "output_type": "display_data"
    }
   ],
   "source": [
    "dallas = team_draft_eval.get_group('DAL')\n",
    "philly = team_draft_eval.get_group('PHI')\n",
    "plt.plot(dallas['Pick'], dallas['Relative Value F-S'], marker='o', linestyle='solid')\n",
    "plt.plot(philly['Pick'], philly['Relative Value F-S'], marker='o', linestyle='solid')"
   ]
  },
  {
   "cell_type": "code",
   "execution_count": 491,
   "metadata": {},
   "outputs": [
    {
     "data": {
      "image/png": "[encoded data removed]",
      "text/plain": [
       "<Figure size 1152x720 with 1 Axes>"
      ]
     },
     "metadata": {
      "needs_background": "light"
     },
     "output_type": "display_data"
    }
   ],
   "source": [
    "plt.figure(figsize=(16,10))\n",
    "\n",
    "# all teams:\n",
    "for name, group in team_draft_eval:\n",
    "    plt.plot(group['Pick'], group['Relative Value F-S'], marker='o', linestyle='', ms=3, label=name)\n",
    "\n",
    "plt.show()"
   ]
  },
  {
   "cell_type": "code",
   "execution_count": null,
   "metadata": {},
   "outputs": [],
   "source": []
  },
  {
   "cell_type": "code",
   "execution_count": null,
   "metadata": {},
   "outputs": [],
   "source": []
  }
 ],
 "metadata": {
  "kernelspec": {
   "display_name": "Python 3",
   "language": "python",
   "name": "python3"
  },
  "language_info": {
   "codemirror_mode": {
    "name": "ipython",
    "version": 3
   },
   "file_extension": ".py",
   "mimetype": "text/x-python",
   "name": "python",
   "nbconvert_exporter": "python",
   "pygments_lexer": "ipython3",
   "version": "3.7.4"
  }
 },
 "nbformat": 4,
 "nbformat_minor": 2
}
